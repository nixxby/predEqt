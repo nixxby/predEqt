{
  "nbformat": 4,
  "nbformat_minor": 0,
  "metadata": {
    "colab": {
      "name": "ProjectX.ipynb",
      "provenance": [],
      "collapsed_sections": []
    },
    "kernelspec": {
      "name": "python3",
      "display_name": "Python 3"
    },
    "language_info": {
      "name": "python"
    }
  },
  "cells": [
    {
      "cell_type": "code",
      "metadata": {
        "colab": {
          "base_uri": "https://localhost:8080/"
        },
        "id": "_vHpa3uIuBPz",
        "outputId": "d50ceffd-3713-41c3-9cb8-ecca32cea26a"
      },
      "source": [
        "import csv\n",
        "import pandas as pd\n",
        "%matplotlib inline\n",
        "!pip install --upgrade mplfinance\n",
        "import mplfinance as mplf"
      ],
      "execution_count": null,
      "outputs": [
        {
          "output_type": "stream",
          "text": [
            "Requirement already up-to-date: mplfinance in /usr/local/lib/python3.7/dist-packages (0.12.7a17)\n",
            "Requirement already satisfied, skipping upgrade: matplotlib in /usr/local/lib/python3.7/dist-packages (from mplfinance) (3.2.2)\n",
            "Requirement already satisfied, skipping upgrade: pandas in /usr/local/lib/python3.7/dist-packages (from mplfinance) (1.1.5)\n",
            "Requirement already satisfied, skipping upgrade: python-dateutil>=2.1 in /usr/local/lib/python3.7/dist-packages (from matplotlib->mplfinance) (2.8.1)\n",
            "Requirement already satisfied, skipping upgrade: pyparsing!=2.0.4,!=2.1.2,!=2.1.6,>=2.0.1 in /usr/local/lib/python3.7/dist-packages (from matplotlib->mplfinance) (2.4.7)\n",
            "Requirement already satisfied, skipping upgrade: kiwisolver>=1.0.1 in /usr/local/lib/python3.7/dist-packages (from matplotlib->mplfinance) (1.3.1)\n",
            "Requirement already satisfied, skipping upgrade: numpy>=1.11 in /usr/local/lib/python3.7/dist-packages (from matplotlib->mplfinance) (1.19.5)\n",
            "Requirement already satisfied, skipping upgrade: cycler>=0.10 in /usr/local/lib/python3.7/dist-packages (from matplotlib->mplfinance) (0.10.0)\n",
            "Requirement already satisfied, skipping upgrade: pytz>=2017.2 in /usr/local/lib/python3.7/dist-packages (from pandas->mplfinance) (2018.9)\n",
            "Requirement already satisfied, skipping upgrade: six>=1.5 in /usr/local/lib/python3.7/dist-packages (from python-dateutil>=2.1->matplotlib->mplfinance) (1.15.0)\n"
          ],
          "name": "stdout"
        }
      ]
    },
    {
      "cell_type": "code",
      "metadata": {
        "colab": {
          "base_uri": "https://localhost:8080/"
        },
        "id": "6tKmj_g7DdPe",
        "outputId": "5b789b78-6751-48e8-c318-b4000a114986"
      },
      "source": [
        "from google.colab import drive\n",
        "drive.mount('/content/drive')"
      ],
      "execution_count": null,
      "outputs": [
        {
          "output_type": "stream",
          "text": [
            "Drive already mounted at /content/drive; to attempt to forcibly remount, call drive.mount(\"/content/drive\", force_remount=True).\n"
          ],
          "name": "stdout"
        }
      ]
    },
    {
      "cell_type": "code",
      "metadata": {
        "id": "EjuEIpF6ETfW",
        "colab": {
          "base_uri": "https://localhost:8080/",
          "height": 402
        },
        "outputId": "c239e9d3-63ba-4085-b84e-ca8d5464239e"
      },
      "source": [
        "df = pd.read_csv(\"/content/drive/My Drive/SBIN.NS.csv\")\n",
        "df"
      ],
      "execution_count": null,
      "outputs": [
        {
          "output_type": "execute_result",
          "data": {
            "text/html": [
              "<div>\n",
              "<style scoped>\n",
              "    .dataframe tbody tr th:only-of-type {\n",
              "        vertical-align: middle;\n",
              "    }\n",
              "\n",
              "    .dataframe tbody tr th {\n",
              "        vertical-align: top;\n",
              "    }\n",
              "\n",
              "    .dataframe thead th {\n",
              "        text-align: right;\n",
              "    }\n",
              "</style>\n",
              "<table border=\"1\" class=\"dataframe\">\n",
              "  <thead>\n",
              "    <tr style=\"text-align: right;\">\n",
              "      <th></th>\n",
              "      <th>Date</th>\n",
              "      <th>Open</th>\n",
              "      <th>High</th>\n",
              "      <th>Low</th>\n",
              "      <th>Close</th>\n",
              "      <th>Adj Close</th>\n",
              "      <th>Volume</th>\n",
              "    </tr>\n",
              "  </thead>\n",
              "  <tbody>\n",
              "    <tr>\n",
              "      <th>0</th>\n",
              "      <td>2016-05-12</td>\n",
              "      <td>187.100006</td>\n",
              "      <td>189.500000</td>\n",
              "      <td>185.399994</td>\n",
              "      <td>188.500000</td>\n",
              "      <td>184.388702</td>\n",
              "      <td>17398341.0</td>\n",
              "    </tr>\n",
              "    <tr>\n",
              "      <th>1</th>\n",
              "      <td>2016-05-13</td>\n",
              "      <td>187.949997</td>\n",
              "      <td>187.949997</td>\n",
              "      <td>184.300003</td>\n",
              "      <td>184.850006</td>\n",
              "      <td>180.818314</td>\n",
              "      <td>15546644.0</td>\n",
              "    </tr>\n",
              "    <tr>\n",
              "      <th>2</th>\n",
              "      <td>2016-05-16</td>\n",
              "      <td>185.000000</td>\n",
              "      <td>185.000000</td>\n",
              "      <td>175.149994</td>\n",
              "      <td>176.800003</td>\n",
              "      <td>172.943878</td>\n",
              "      <td>30937008.0</td>\n",
              "    </tr>\n",
              "    <tr>\n",
              "      <th>3</th>\n",
              "      <td>2016-05-17</td>\n",
              "      <td>178.500000</td>\n",
              "      <td>178.600006</td>\n",
              "      <td>175.250000</td>\n",
              "      <td>176.850006</td>\n",
              "      <td>172.992798</td>\n",
              "      <td>22183140.0</td>\n",
              "    </tr>\n",
              "    <tr>\n",
              "      <th>4</th>\n",
              "      <td>2016-05-18</td>\n",
              "      <td>176.899994</td>\n",
              "      <td>180.449997</td>\n",
              "      <td>173.550003</td>\n",
              "      <td>179.949997</td>\n",
              "      <td>176.025177</td>\n",
              "      <td>25345278.0</td>\n",
              "    </tr>\n",
              "    <tr>\n",
              "      <th>...</th>\n",
              "      <td>...</td>\n",
              "      <td>...</td>\n",
              "      <td>...</td>\n",
              "      <td>...</td>\n",
              "      <td>...</td>\n",
              "      <td>...</td>\n",
              "      <td>...</td>\n",
              "    </tr>\n",
              "    <tr>\n",
              "      <th>1229</th>\n",
              "      <td>2021-05-05</td>\n",
              "      <td>356.500000</td>\n",
              "      <td>357.450012</td>\n",
              "      <td>348.000000</td>\n",
              "      <td>355.399994</td>\n",
              "      <td>355.399994</td>\n",
              "      <td>40872501.0</td>\n",
              "    </tr>\n",
              "    <tr>\n",
              "      <th>1230</th>\n",
              "      <td>2021-05-06</td>\n",
              "      <td>358.000000</td>\n",
              "      <td>359.350006</td>\n",
              "      <td>350.549988</td>\n",
              "      <td>355.549988</td>\n",
              "      <td>355.549988</td>\n",
              "      <td>36294427.0</td>\n",
              "    </tr>\n",
              "    <tr>\n",
              "      <th>1231</th>\n",
              "      <td>2021-05-07</td>\n",
              "      <td>357.500000</td>\n",
              "      <td>362.000000</td>\n",
              "      <td>353.000000</td>\n",
              "      <td>358.250000</td>\n",
              "      <td>358.250000</td>\n",
              "      <td>38357618.0</td>\n",
              "    </tr>\n",
              "    <tr>\n",
              "      <th>1232</th>\n",
              "      <td>2021-05-10</td>\n",
              "      <td>360.500000</td>\n",
              "      <td>367.000000</td>\n",
              "      <td>358.799988</td>\n",
              "      <td>361.700012</td>\n",
              "      <td>361.700012</td>\n",
              "      <td>41739324.0</td>\n",
              "    </tr>\n",
              "    <tr>\n",
              "      <th>1233</th>\n",
              "      <td>2021-05-11</td>\n",
              "      <td>356.850006</td>\n",
              "      <td>366.399994</td>\n",
              "      <td>354.750000</td>\n",
              "      <td>364.649994</td>\n",
              "      <td>364.649994</td>\n",
              "      <td>41892770.0</td>\n",
              "    </tr>\n",
              "  </tbody>\n",
              "</table>\n",
              "<p>1234 rows × 7 columns</p>\n",
              "</div>"
            ],
            "text/plain": [
              "            Date        Open        High  ...       Close   Adj Close      Volume\n",
              "0     2016-05-12  187.100006  189.500000  ...  188.500000  184.388702  17398341.0\n",
              "1     2016-05-13  187.949997  187.949997  ...  184.850006  180.818314  15546644.0\n",
              "2     2016-05-16  185.000000  185.000000  ...  176.800003  172.943878  30937008.0\n",
              "3     2016-05-17  178.500000  178.600006  ...  176.850006  172.992798  22183140.0\n",
              "4     2016-05-18  176.899994  180.449997  ...  179.949997  176.025177  25345278.0\n",
              "...          ...         ...         ...  ...         ...         ...         ...\n",
              "1229  2021-05-05  356.500000  357.450012  ...  355.399994  355.399994  40872501.0\n",
              "1230  2021-05-06  358.000000  359.350006  ...  355.549988  355.549988  36294427.0\n",
              "1231  2021-05-07  357.500000  362.000000  ...  358.250000  358.250000  38357618.0\n",
              "1232  2021-05-10  360.500000  367.000000  ...  361.700012  361.700012  41739324.0\n",
              "1233  2021-05-11  356.850006  366.399994  ...  364.649994  364.649994  41892770.0\n",
              "\n",
              "[1234 rows x 7 columns]"
            ]
          },
          "metadata": {
            "tags": []
          },
          "execution_count": 20
        }
      ]
    },
    {
      "cell_type": "code",
      "metadata": {
        "colab": {
          "base_uri": "https://localhost:8080/"
        },
        "id": "3QS-9eLqEKxN",
        "outputId": "cc842928-8cd3-4cfc-c0bf-5c4f8b0c600a"
      },
      "source": [
        "df.info()"
      ],
      "execution_count": null,
      "outputs": [
        {
          "output_type": "stream",
          "text": [
            "<class 'pandas.core.frame.DataFrame'>\n",
            "RangeIndex: 249 entries, 0 to 248\n",
            "Data columns (total 7 columns):\n",
            " #   Column     Non-Null Count  Dtype  \n",
            "---  ------     --------------  -----  \n",
            " 0   Date       249 non-null    object \n",
            " 1   Open       248 non-null    float64\n",
            " 2   High       248 non-null    float64\n",
            " 3   Low        248 non-null    float64\n",
            " 4   Close      248 non-null    float64\n",
            " 5   Adj Close  248 non-null    float64\n",
            " 6   Volume     248 non-null    float64\n",
            "dtypes: float64(6), object(1)\n",
            "memory usage: 13.7+ KB\n"
          ],
          "name": "stdout"
        }
      ]
    },
    {
      "cell_type": "code",
      "metadata": {
        "colab": {
          "base_uri": "https://localhost:8080/",
          "height": 493
        },
        "id": "asyAh3rBEsS6",
        "outputId": "ed08b277-be97-46fb-9e46-bf3459dc88f9"
      },
      "source": [
        "# OHLC Candlestick chart visualization\n",
        "\n",
        "#Converting 'Date' (object datatype) to datetime64[ns] & setting it as index for plotting OHLC.\n",
        "df_ohlc = df.copy()\n",
        "df_ohlc.Date = pd.to_datetime(df.Date)\n",
        "df_ohlc = df_ohlc.set_index('Date')\n",
        "\n",
        "#Plot candlestick graph for April-2021.\n",
        "mplf.plot(df_ohlc['2021'], type='candle', volume=True)"
      ],
      "execution_count": null,
      "outputs": [
        {
          "output_type": "display_data",
          "data": {
            "image/png": "[encoded data removed]",
            "text/plain": [
              "<Figure size 800x575 with 4 Axes>"
            ]
          },
          "metadata": {
            "tags": []
          }
        }
      ]
    }
  ]
}